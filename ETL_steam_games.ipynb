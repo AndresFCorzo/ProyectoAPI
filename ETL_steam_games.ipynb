{
 "cells": [
  {
   "cell_type": "code",
   "execution_count": 11,
   "metadata": {},
   "outputs": [],
   "source": [
    "import pandas as pd\n",
    "import json\n",
    "import ast\n",
    "import pyarrow.parquet as pq"
   ]
  },
  {
   "cell_type": "code",
   "execution_count": 12,
   "metadata": {},
   "outputs": [],
   "source": [
    "#Leer el archivo línea por línea y cargar cada línea como un objeto JSON\n",
    "with open('Datasets\\\\JSON\\\\output_steam_games.json', 'r', encoding='utf-8') as archivo:\n",
    "    data = [json.loads(line) for line in archivo]\n",
    "\n",
    "#Convertir la lista de objetos JSON en un DataFrame\n",
    "data_games = pd.DataFrame(data)"
   ]
  },
  {
   "cell_type": "code",
   "execution_count": 13,
   "metadata": {},
   "outputs": [],
   "source": [
    "#Realizamos la depuracion de los valores \"NaN\"\n",
    "data_games.drop(data_games.index[0:88310], inplace=True)\n",
    "\n",
    "#Realizamos la limpieza de los valores \"Nulos\" en las columnas que requerimos\n",
    "df_clean_games = data_games.dropna(subset=['id'])\n",
    "df_clean_games = df_clean_games.dropna(subset=['genres'])\n",
    "df_clean_games = df_clean_games.dropna(subset=['developer'])\n",
    "df_clean_games = df_clean_games.dropna(subset=['release_date'])\n",
    "data_games = df_clean_games"
   ]
  },
  {
   "cell_type": "code",
   "execution_count": 14,
   "metadata": {},
   "outputs": [],
   "source": [
    "#Eliminamos las columnas que no necesitamos del Dataframe\n",
    "df_data_games = data_games.drop('publisher', axis=1)\n",
    "df_data_games = df_data_games.drop('url', axis=1)\n",
    "df_data_games = df_data_games.drop('app_name', axis=1)\n",
    "df_data_games = df_data_games.drop('specs', axis=1)\n",
    "df_data_games = df_data_games.drop('early_access', axis=1)\n",
    "df_data_games = df_data_games.drop('tags', axis=1)\n",
    "df_data_games = df_data_games.drop('price', axis=1)\n",
    "df_data_games = df_data_games.drop('reviews_url', axis=1)\n",
    "data_games = df_data_games"
   ]
  },
  {
   "cell_type": "code",
   "execution_count": 15,
   "metadata": {},
   "outputs": [],
   "source": [
    "#Extraer el año de la columna 'release_date' y almacenarlo en una nueva columna llamada 'year'\n",
    "data_games['year'] = data_games['release_date'].str.extract(r'(\\d{4})')\n",
    "#Eliminar la columna 'release_date' del DataFrame\n",
    "data_games.drop('release_date' , axis = 1, inplace = True) "
   ]
  },
  {
   "cell_type": "code",
   "execution_count": 16,
   "metadata": {},
   "outputs": [],
   "source": [
    "#Eliminamos los valores \"nulos\" de la columna \"year\" Dataframe ya que son pocos en relacion de los registros de todo el dataset\n",
    "df_clean_games1 = data_games.dropna(subset=['year'])\n",
    "data_games = df_clean_games1\n",
    "#Eliminar valores repetidos\n",
    "df_sin_repetidos_games = data_games.drop_duplicates(subset=['id','title','developer','year'], keep='first')\n",
    "data_games = df_sin_repetidos_games"
   ]
  },
  {
   "cell_type": "code",
   "execution_count": 17,
   "metadata": {},
   "outputs": [],
   "source": [
    "#Convertir la columna 'year' a variable numerica de tipo entero\n",
    "data_games.loc['year'] = data_games['year'].astype(int)\n",
    "#Convertir la columna \"developer\" en variable tipo string\n",
    "data_games.loc['developer'] = data_games['developer'].astype(str)"
   ]
  },
  {
   "cell_type": "code",
   "execution_count": 18,
   "metadata": {},
   "outputs": [],
   "source": [
    "#Seleccionamos todas las filas exceptuando las dos ultimas\n",
    "data_games = data_games.iloc[:-2]"
   ]
  },
  {
   "cell_type": "code",
   "execution_count": 19,
   "metadata": {},
   "outputs": [],
   "source": [
    "data_games.to_parquet('DatasetsLimpios\\\\games.parquet')"
   ]
  }
 ],
 "metadata": {
  "kernelspec": {
   "display_name": "FastAPI",
   "language": "python",
   "name": "python3"
  },
  "language_info": {
   "codemirror_mode": {
    "name": "ipython",
    "version": 3
   },
   "file_extension": ".py",
   "mimetype": "text/x-python",
   "name": "python",
   "nbconvert_exporter": "python",
   "pygments_lexer": "ipython3",
   "version": "3.11.6"
  }
 },
 "nbformat": 4,
 "nbformat_minor": 2
}
