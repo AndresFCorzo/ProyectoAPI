{
 "cells": [
  {
   "cell_type": "markdown",
   "metadata": {},
   "source": [
    "**<h1 align=\"center\">PROYECTO INDIVIDUAL 1</h1>**\n",
    "<h1 align=\"center\"> (Machine Learning)</h1>"
   ]
  },
  {
   "cell_type": "code",
   "execution_count": 1,
   "metadata": {},
   "outputs": [],
   "source": [
    "import pandas as pd\n",
    "from sklearn.metrics.pairwise import cosine_similarity\n",
    "from sklearn.feature_extraction.text import TfidfVectorizer"
   ]
  },
  {
   "cell_type": "markdown",
   "metadata": {},
   "source": [
    "<h2>Preparacion de datos para similitud de coseno con variables que mas se correlacionan</h2>"
   ]
  },
  {
   "cell_type": "code",
   "execution_count": 6,
   "metadata": {},
   "outputs": [],
   "source": [
    "#Cargamos los datos\n",
    "df = pd.read_parquet('Merge\\\\Tabla_API.parquet')\n",
    "df1 = pd.read_parquet('Merge\\\\Tabla_API.parquet')\n",
    "#Eliminamos columnas que no se utilizaran\n",
    "df.drop(['genres', 'review', 'playtime_forever', 'recommend', 'year'], axis=1, inplace=True)\n",
    "df1.drop(['genres', 'review', 'playtime_forever', 'recommend', 'year'], axis=1, inplace=True)\n",
    "#Cambiamos el tipo de variable\n",
    "df['item_id'] = df['item_id'].astype(str)\n",
    "df['year_posted'] = df['year_posted'].astype(str)\n",
    "#Eliminamos valores duplicados\n",
    "df = df.drop_duplicates(subset='item_id', keep='first')\n",
    "df1 = df1.drop_duplicates(subset='item_id', keep='first')\n",
    "#Combinamos los valores de las columnas \"title, year_posted, developer\" en una sola columna\n",
    "df['features'] = df[['title', 'year_posted', 'developer']].apply(lambda x: ', '.join(x), axis=1)\n",
    "df.drop(['title','year_posted','developer'],axis=1,inplace=True)\n",
    "#Exportamos los datasets limpios de juegos\n",
    "df.to_csv('DatasetsLimpios\\\\games_steam.csv', index=False)\n",
    "df1.to_csv('DatasetsLimpios\\\\games_id.csv', index=False)"
   ]
  },
  {
   "cell_type": "markdown",
   "metadata": {},
   "source": [
    "<h2>Definicion de funcion de modelo Machine Learning</h2>"
   ]
  },
  {
   "cell_type": "code",
   "execution_count": 7,
   "metadata": {},
   "outputs": [],
   "source": [
    "def recomendacion_juego(item_id):\n",
    "    #Cargar datos para utilizar en dos Dataframes distintos\n",
    "    df = pd.read_csv('DatasetsLimpios\\\\games_steam.csv')\n",
    "    df1 = pd.read_csv('DatasetsLimpios\\\\games_id.csv')\n",
    "\n",
    "    #Crear una matriz de juegos\n",
    "    tfidv = TfidfVectorizer(min_df=2, max_df=0.7, token_pattern=r'\\b[a-zA-Z0-9]\\w+\\b')\n",
    "    data_vector = tfidv.fit_transform(df['features'])\n",
    "\n",
    "    data_vector_df = pd.DataFrame(data_vector.toarray(), index=df['item_id'], columns = tfidv.get_feature_names_out())\n",
    "\n",
    "    #Calcular la similitud del coseno entre los juegos en la matriz de juegos\n",
    "    vector_similitud_coseno = cosine_similarity(data_vector_df.values)\n",
    "\n",
    "    cos_sim_df = pd.DataFrame(vector_similitud_coseno, index=data_vector_df.index, columns=data_vector_df.index)\n",
    "\n",
    "    juego_simil = cos_sim_df.loc[item_id]\n",
    "\n",
    "    simil_ordenada = juego_simil.sort_values(ascending=False)\n",
    "    resultado = simil_ordenada.head(6).reset_index()\n",
    "\n",
    "    result_df = resultado.merge(df1, on='item_id',how='left')\n",
    "\n",
    "    #Devolver una lista con los 6 juegos mas similares\n",
    "    juego_title = df1[df1['item_id'] == item_id]['title'].values[0]\n",
    "\n",
    "    #Devuelve un mensaje que indica el juego original y los juegos recomendados\n",
    "    mensaje = f\"Si te gustó el juego {item_id} : {juego_title}, también te pueden gustar:\"\n",
    "\n",
    "    result_dict = {\n",
    "        'mensaje': mensaje,\n",
    "        'juegos recomendados': result_df['title'][1:6].tolist()\n",
    "    }\n",
    "\n",
    "    return result_dict"
   ]
  },
  {
   "cell_type": "code",
   "execution_count": 8,
   "metadata": {},
   "outputs": [
    {
     "data": {
      "text/plain": [
       "{'mensaje': 'Si te gustó el juego 22200 : Zeno Clash, también te pueden gustar:',\n",
       " 'juegos recomendados': ['Zeno Clash 2',\n",
       "  'Rock of Ages',\n",
       "  'Clash of the Monsters',\n",
       "  'Abyss Odyssey',\n",
       "  'NAM']}"
      ]
     },
     "execution_count": 8,
     "metadata": {},
     "output_type": "execute_result"
    }
   ],
   "source": [
    "ab = recomendacion_juego(22200)\n",
    "ab"
   ]
  }
 ],
 "metadata": {
  "kernelspec": {
   "display_name": "FastAPI",
   "language": "python",
   "name": "python3"
  },
  "language_info": {
   "codemirror_mode": {
    "name": "ipython",
    "version": 3
   },
   "file_extension": ".py",
   "mimetype": "text/x-python",
   "name": "python",
   "nbconvert_exporter": "python",
   "pygments_lexer": "ipython3",
   "version": "3.11.6"
  }
 },
 "nbformat": 4,
 "nbformat_minor": 2
}
