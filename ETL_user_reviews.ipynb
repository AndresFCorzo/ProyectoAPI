{
 "cells": [
  {
   "cell_type": "code",
   "execution_count": 37,
   "metadata": {},
   "outputs": [],
   "source": [
    "import pandas as pd\n",
    "import json\n",
    "import ast\n",
    "import pyarrow.parquet as pq"
   ]
  },
  {
   "cell_type": "code",
   "execution_count": 38,
   "metadata": {},
   "outputs": [],
   "source": [
    "#Lista para almacenar los diccionarios JSON de cada línea\n",
    "review = []\n",
    "\n",
    "#Ruta del archivo JSON\n",
    "file_path = 'Datasets\\\\JSON\\\\australian_user_reviews.json'\n",
    "\n",
    "#Abrir el archivo y procesar cada línea\n",
    "with open(file_path, 'r', encoding='utf-8') as file:\n",
    "    for line in file:\n",
    "        try:\n",
    "            # Usar ast.literal_eval para convertir la línea en un diccionario\n",
    "            json_data = ast.literal_eval(line)\n",
    "            review.append(json_data)\n",
    "        except ValueError as e:\n",
    "            print(f\"Error en la línea: {line}\")\n",
    "            continue\n",
    "\n",
    "#Crear un DataFrame a partir de la lista de diccionarios\n",
    "data_user_reviews = pd.DataFrame(review)"
   ]
  },
  {
   "cell_type": "code",
   "execution_count": 39,
   "metadata": {},
   "outputs": [],
   "source": [
    "#Seguimos con la desanidacion de la estructura del Dataframe\n",
    "data_user_review1 = data_user_reviews.explode(['reviews'])\n",
    "data_user_review2 = data_user_review1['reviews'].apply(pd.Series)\n",
    "data_user_review3 = pd.concat([data_user_review1, data_user_review2], axis=1)\n",
    "data_user_reviews = data_user_review3"
   ]
  },
  {
   "cell_type": "code",
   "execution_count": 40,
   "metadata": {},
   "outputs": [],
   "source": [
    "#Realizamos la eliminacion de las columnas que no necesitamos\n",
    "df_clean_reviews = data_user_reviews.drop('funny', axis=1)\n",
    "df_clean_reviews = df_clean_reviews.drop('last_edited', axis=1)\n",
    "df_clean_reviews = df_clean_reviews.drop('user_url', axis=1)\n",
    "df_clean_reviews = df_clean_reviews.drop('reviews', axis=1)\n",
    "df_clean_reviews = df_clean_reviews.drop('helpful', axis=1)\n",
    "df_clean_reviews = df_clean_reviews.drop(df_clean_reviews.columns[-1], axis=1)\n",
    "data_user_reviews = df_clean_reviews\n",
    "\n",
    "#Eliminamos los valores \"Nulos\" de las columnas que nos interesan\n",
    "df_clean_reviews = data_user_reviews.dropna(subset=['posted'])\n",
    "df_clean_reviews = df_clean_reviews.dropna(subset=['recommend'])\n",
    "df_clean_reviews = df_clean_reviews.dropna(subset=['review'])\n",
    "df_clean_reviews = df_clean_reviews.dropna(subset=['item_id'])\n",
    "data_user_reviews = df_clean_reviews"
   ]
  },
  {
   "cell_type": "code",
   "execution_count": 41,
   "metadata": {},
   "outputs": [
    {
     "name": "stderr",
     "output_type": "stream",
     "text": [
      "[nltk_data] Downloading package vader_lexicon to\n",
      "[nltk_data]     C:\\Users\\DELL\\AppData\\Roaming\\nltk_data...\n",
      "[nltk_data]   Package vader_lexicon is already up-to-date!\n"
     ]
    }
   ],
   "source": [
    "import nltk\n",
    "# descarga del diccionario vader_lexicon \n",
    "nltk.download('vader_lexicon')\n",
    "# importar el analizador de sentimientos vader\n",
    "from nltk.sentiment.vader import SentimentIntensityAnalyzer "
   ]
  },
  {
   "cell_type": "code",
   "execution_count": 42,
   "metadata": {},
   "outputs": [],
   "source": [
    "#Inicializa el analizador de sentimiento de NLTK\n",
    "sia = SentimentIntensityAnalyzer()\n",
    "\n",
    "#Definir una funcion para categorizar el sentimiento\n",
    "def categorize_sentiment(score):\n",
    "    if score < -0.05:\n",
    "        return 0 #Malo\n",
    "    elif score > 0.05:\n",
    "        return 2 #Positivo\n",
    "    else:\n",
    "        return 1 #Neutral\n",
    "\n",
    "#Convertir la columna 'review' en string\n",
    "data_user_reviews['review'] = data_user_reviews['review'].astype(str) \n",
    "#Aplica el analisis de sentimientos a las reseñas y categoriza el resultado\n",
    "data_user_reviews['review'] = data_user_reviews['review'].apply(lambda review: sia.polarity_scores(review)['compound'])\n",
    "data_user_reviews['review'] = data_user_reviews['review'].apply(categorize_sentiment)"
   ]
  },
  {
   "cell_type": "code",
   "execution_count": 43,
   "metadata": {},
   "outputs": [],
   "source": [
    "#Extraer el año de la columna 'posted' y almacenarlo en una nueva columna 'year_posted'\n",
    "data_user_reviews['year_posted'] = data_user_reviews['posted'].str.extract(r'(\\d{4})')\n",
    "#Eliminar la columna 'posted' del DataFrame data_user_review\n",
    "data_user_reviews.drop('posted' , axis = 1, inplace = True) "
   ]
  },
  {
   "cell_type": "code",
   "execution_count": 44,
   "metadata": {},
   "outputs": [],
   "source": [
    "#Imputamos valores para la columna year_posted, pues son 22% de los datos en total.\n",
    "#Imputamos los valores nulos de la columna 'year_posted' con el valor 2013 que es el valor de la mediana\n",
    "data_user_reviews['year_posted'].fillna(2013, inplace=True)"
   ]
  },
  {
   "cell_type": "code",
   "execution_count": 45,
   "metadata": {},
   "outputs": [],
   "source": [
    "#Eliminamos valores duplicados\n",
    "data_user_reviews = data_user_reviews.drop_duplicates()"
   ]
  },
  {
   "cell_type": "code",
   "execution_count": 46,
   "metadata": {},
   "outputs": [
    {
     "name": "stderr",
     "output_type": "stream",
     "text": [
      "C:\\Users\\DELL\\AppData\\Local\\Temp\\ipykernel_1776\\2423273455.py:2: SettingWithCopyWarning: \n",
      "A value is trying to be set on a copy of a slice from a DataFrame.\n",
      "Try using .loc[row_indexer,col_indexer] = value instead\n",
      "\n",
      "See the caveats in the documentation: https://pandas.pydata.org/pandas-docs/stable/user_guide/indexing.html#returning-a-view-versus-a-copy\n",
      "  data_user_reviews['year_posted'] = data_user_reviews['year_posted'].astype(str)\n"
     ]
    }
   ],
   "source": [
    "#Convertimos el tipo de variable de 'year_posted' a string\n",
    "data_user_reviews['year_posted'] = data_user_reviews['year_posted'].astype(str)"
   ]
  },
  {
   "cell_type": "code",
   "execution_count": 48,
   "metadata": {},
   "outputs": [],
   "source": [
    "data_user_reviews.to_parquet('DatasetsLimpios\\\\user_reviews.parquet')"
   ]
  }
 ],
 "metadata": {
  "kernelspec": {
   "display_name": "FastAPI",
   "language": "python",
   "name": "python3"
  },
  "language_info": {
   "codemirror_mode": {
    "name": "ipython",
    "version": 3
   },
   "file_extension": ".py",
   "mimetype": "text/x-python",
   "name": "python",
   "nbconvert_exporter": "python",
   "pygments_lexer": "ipython3",
   "version": "3.11.6"
  }
 },
 "nbformat": 4,
 "nbformat_minor": 2
}
