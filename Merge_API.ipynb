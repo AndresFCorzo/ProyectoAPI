{
 "cells": [
  {
   "cell_type": "markdown",
   "metadata": {},
   "source": [
    "**<h1 align=\"center\">PROYECTO INDIVIDUAL 1</h1>**\n",
    "<h1 align=\"center\"> Merge API</h1>"
   ]
  },
  {
   "cell_type": "code",
   "execution_count": 10,
   "metadata": {},
   "outputs": [],
   "source": [
    "import pandas as pd\n",
    "import fsspec\n",
    "import pyarrow.parquet as pq"
   ]
  },
  {
   "cell_type": "code",
   "execution_count": 11,
   "metadata": {},
   "outputs": [],
   "source": [
    "#Abrimos los archivos parquet\n",
    "user_games = pd.read_parquet('DatasetsLimpios\\\\games.parquet')\n",
    "user_items = pd.read_parquet('DatasetsLimpios\\\\user_items.parquet')\n",
    "user_reviews = pd.read_parquet('DatasetsLimpios\\\\user_reviews.parquet')"
   ]
  },
  {
   "cell_type": "code",
   "execution_count": 12,
   "metadata": {},
   "outputs": [],
   "source": [
    "#Seleccionamos las columnas relevantes de \"user_items\"\n",
    "user_items = user_items[['user_id','item_id','playtime_forever']]\n",
    "#Generamos un identificador único en el Dataframe \"user_items\"\n",
    "user_items['item_id'] = user_items['item_id'].astype(str)\n",
    "user_items['id'] = user_items['user_id'] + user_items['item_id']\n",
    "#Renombramos la columna \"id\" por \"item_id\" de la tabla \"user_games\"\n",
    "user_games = user_games.rename(columns={'id': 'item_id'})\n",
    "#Cambiamos el tipo de dato de la columna 'item_id' del Dataframe \"user_games\"\n",
    "user_games['item_id'] = user_games['item_id'].astype(str)\n",
    "#Generamos un identificador único en el Dataframe \"user_reviews\"\n",
    "user_reviews['item_id'] = user_reviews['item_id'].astype(str)\n",
    "user_reviews['id'] = user_reviews['user_id'] + user_reviews['item_id']"
   ]
  },
  {
   "cell_type": "code",
   "execution_count": 13,
   "metadata": {},
   "outputs": [],
   "source": [
    "#Unimos los dataframes \"user_reviews\" y \"user_games\" por el 'item_id' y eliminacion de nulos\n",
    "merged_df = user_reviews.merge(user_games, on='item_id', how='left')\n",
    "merged_df.dropna(inplace=True)\n",
    "#Generamos dataframe definitivo uniendo 'items' con 'merge_df' por el identificador unico 'id' de nombre \"steam\"\n",
    "steam = user_items.merge(merged_df, on='id')\n",
    "#Renombramos columnas del dataframe 'steam'\n",
    "steam = steam.rename(columns={'user_id_x':'user_id'})\n",
    "steam = steam.rename(columns={'item_id_x':'item_id'})\n",
    "#Eliminamos las columnas redundantes del dataframe 'steam'\n",
    "steam.drop('user_id_y', axis='columns', inplace=True)\n",
    "steam.drop('item_id_y', axis='columns', inplace=True)"
   ]
  },
  {
   "cell_type": "code",
   "execution_count": 14,
   "metadata": {},
   "outputs": [],
   "source": [
    "#Cambiamos los tipos de datos de algunas columnas\n",
    "steam['year_posted'] = steam['year_posted'].astype('int64')\n",
    "steam['playtime_forever'] = steam['playtime_forever'].astype('int64')\n",
    "steam['year'] = steam['year'].astype('int64')"
   ]
  },
  {
   "cell_type": "code",
   "execution_count": 15,
   "metadata": {},
   "outputs": [],
   "source": [
    "#Seleccionamos las columnas definitivas\n",
    "steam = steam[['user_id','item_id','playtime_forever','recommend','review','year_posted','genres','title','developer','year']]"
   ]
  },
  {
   "cell_type": "code",
   "execution_count": 16,
   "metadata": {},
   "outputs": [],
   "source": [
    "#Guardamos archivo en .parquet\n",
    "steam.to_parquet('Merge\\\\Tabla_API.parquet')"
   ]
  }
 ],
 "metadata": {
  "kernelspec": {
   "display_name": "FastAPI",
   "language": "python",
   "name": "python3"
  },
  "language_info": {
   "codemirror_mode": {
    "name": "ipython",
    "version": 3
   },
   "file_extension": ".py",
   "mimetype": "text/x-python",
   "name": "python",
   "nbconvert_exporter": "python",
   "pygments_lexer": "ipython3",
   "version": "3.11.6"
  }
 },
 "nbformat": 4,
 "nbformat_minor": 2
}
