{
 "cells": [
  {
   "cell_type": "code",
   "execution_count": 9,
   "metadata": {},
   "outputs": [],
   "source": [
    "import pandas as pd\n",
    "import json\n",
    "import ast\n",
    "import pyarrow.parquet as pq"
   ]
  },
  {
   "cell_type": "code",
   "execution_count": 10,
   "metadata": {},
   "outputs": [],
   "source": [
    "#Lista para almacenar los diccionarios JSON de cada línea\n",
    "data_list = []\n",
    "\n",
    "#Ruta del archivo JSON\n",
    "file_path = 'Datasets\\\\JSON\\\\australian_users_items.json'\n",
    "\n",
    "#Abrir el archivo y procesar cada línea\n",
    "with open(file_path, 'r', encoding='utf-8') as file:\n",
    "    for line in file:\n",
    "        try:\n",
    "            # Usar ast.literal_eval para convertir la línea en un diccionario\n",
    "            json_data = ast.literal_eval(line)\n",
    "            data_list.append(json_data)\n",
    "        except ValueError as e:\n",
    "            print(f\"Error en la línea: {line}\")\n",
    "            continue\n",
    "\n",
    "#Crear un DataFrame a partir de la lista de diccionarios\n",
    "data_users_items = pd.DataFrame(data_list)"
   ]
  },
  {
   "cell_type": "code",
   "execution_count": 11,
   "metadata": {},
   "outputs": [],
   "source": [
    "#Desanidamos los datos de la columna 'items'\n",
    "data_user_item1 = data_users_items.explode(['items'])\n",
    "data_user_item2 = pd.json_normalize(data_user_item1['items']).set_index(data_user_item1['items'].index)\n",
    "data_user_item3= pd.concat([data_user_item2, data_user_item1], axis=1)\n",
    "data_users_items = data_user_item3"
   ]
  },
  {
   "cell_type": "code",
   "execution_count": 12,
   "metadata": {},
   "outputs": [],
   "source": [
    "#Realizamos la eliminacion de las columnas que no necesitamos\n",
    "df_clean_items = data_users_items.drop('user_url', axis=1)\n",
    "df_clean_items = df_clean_items.drop('playtime_2weeks', axis=1)\n",
    "df_clean_items = df_clean_items.drop('items', axis=1)\n",
    "df_clean_items = df_clean_items.drop('steam_id', axis=1)\n",
    "df_clean_items = df_clean_items.drop('items_count', axis=1)\n",
    "df_clean_items = df_clean_items.drop('item_name', axis=1)\n",
    "data_users_items = df_clean_items"
   ]
  },
  {
   "cell_type": "code",
   "execution_count": 13,
   "metadata": {},
   "outputs": [],
   "source": [
    "#Realizamos la limpieza de los valores \"Nulos\" en las columnas que requerimos\n",
    "df_clean_items = data_users_items.dropna(subset=['item_id', 'playtime_forever'])\n",
    "data_users_items = df_clean_items\n",
    "\n",
    "#Definimos Dataframe para juegos donde hayan tenido tiempo jugado\n",
    "data_users_items = data_users_items[data_users_items['playtime_forever'] != 0]\n",
    "\n",
    "#Eliminamos valores duplicados y nulos si los hay\n",
    "data_users_items = data_users_items.drop_duplicates()\n",
    "data_users_items = data_users_items.dropna()"
   ]
  },
  {
   "cell_type": "code",
   "execution_count": 14,
   "metadata": {},
   "outputs": [],
   "source": [
    "data_users_items.to_parquet('DatasetsLimpios\\\\user_items.parquet')"
   ]
  }
 ],
 "metadata": {
  "kernelspec": {
   "display_name": "FastAPI",
   "language": "python",
   "name": "python3"
  },
  "language_info": {
   "codemirror_mode": {
    "name": "ipython",
    "version": 3
   },
   "file_extension": ".py",
   "mimetype": "text/x-python",
   "name": "python",
   "nbconvert_exporter": "python",
   "pygments_lexer": "ipython3",
   "version": "3.11.6"
  }
 },
 "nbformat": 4,
 "nbformat_minor": 2
}
